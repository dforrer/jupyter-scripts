{
 "cells": [
  {
   "cell_type": "code",
   "execution_count": null,
   "metadata": {
    "collapsed": false
   },
   "outputs": [
    {
     "name": "stdout",
     "output_type": "stream",
     "text": [
      "('random forest accuracy: ', 0.92000000000000004)\n",
      "('stochastic gradient descent accuracy: ', 0.85399999999999998)\n"
     ]
    }
   ],
   "source": [
    "# This is based on this tutorial\n",
    "# http://brianfarris.me/static/digit_recognizer.html\n",
    "# You need to first install a couple of python libraries\n",
    "# pip install pandas  / on Pi: sudo apt-get install python-pandas\n",
    "# pip install numpy   / on Pi: already installed\n",
    "# pip install SciPy   / on Pi: sudo apt-get install python-scipy \n",
    "# pip install sklearn / on Pi: sudo apt-get install python-sklearn\n",
    "\n",
    "import pandas as pd\n",
    "import numpy as np\n",
    "from sklearn import cross_validation\n",
    "from sklearn.ensemble import RandomForestClassifier\n",
    "from sklearn.svm import LinearSVC\n",
    "from sklearn.linear_model import SGDClassifier\n",
    "from sklearn.neighbors import KNeighborsClassifier\n",
    "from sklearn.metrics import accuracy_score\n",
    "from sklearn.datasets import fetch_mldata\n",
    "#from nolearn.dbn import DBN\n",
    "import timeit\n",
    "\n",
    "train = pd.read_csv(\"mnist_test.csv\", header=None)\n",
    "labels = train.columns[0]\n",
    "features = train.columns[1:] #give me columns 1-end\n",
    "X = train[features]\n",
    "y = train[labels]\n",
    "X_train, X_test, y_train, y_test = cross_validation.train_test_split(X/255.,y,test_size=0.1,random_state=0)\n",
    "\n",
    "# Random Forest\n",
    "\n",
    "clf_rf = RandomForestClassifier()\n",
    "clf_rf.fit(X_train, y_train)\n",
    "y_pred_rf = clf_rf.predict(X_test)\n",
    "acc_rf = accuracy_score(y_test, y_pred_rf)\n",
    "print(\"random forest accuracy: \",acc_rf)\n",
    "\n",
    "# Stochastic gradient descent\n",
    "\n",
    "clf_sgd = SGDClassifier()\n",
    "clf_sgd.fit(X_train, y_train)\n",
    "y_pred_sgd = clf_sgd.predict(X_test)\n",
    "acc_sgd = accuracy_score(y_test, y_pred_sgd)\n",
    "print(\"stochastic gradient descent accuracy: \",acc_sgd)\n",
    "\n",
    "# Support Vector Machine\n",
    "\n",
    "clf_svm = LinearSVC()\n",
    "clf_svm.fit(X_train, y_train)\n",
    "y_pred_svm = clf_svm.predict(X_test)\n",
    "acc_svm = accuracy_score(y_test, y_pred_svm)\n",
    "print(\"Linear SVM accuracy: \",acc_svm)\n",
    "\n",
    "# Nearest Neighbors\n",
    "\n",
    "clf_knn = KNeighborsClassifier()\n",
    "clf_knn.fit(X_train, y_train)\n",
    "y_pred_knn = clf_knn.predict(X_test)\n",
    "acc_knn = accuracy_score(y_test, y_pred_knn)\n",
    "print(\"nearest neighbors accuracy: \",acc_knn)\n"
   ]
  },
  {
   "cell_type": "code",
   "execution_count": null,
   "metadata": {
    "collapsed": true
   },
   "outputs": [],
   "source": []
  }
 ],
 "metadata": {
  "kernelspec": {
   "display_name": "PySpark",
   "language": "python",
   "name": "pyspark"
  },
  "language_info": {
   "codemirror_mode": {
    "name": "ipython",
    "version": 2
   },
   "file_extension": ".py",
   "mimetype": "text/x-python",
   "name": "python",
   "nbconvert_exporter": "python",
   "pygments_lexer": "ipython2",
   "version": "2.7.9"
  }
 },
 "nbformat": 4,
 "nbformat_minor": 0
}
