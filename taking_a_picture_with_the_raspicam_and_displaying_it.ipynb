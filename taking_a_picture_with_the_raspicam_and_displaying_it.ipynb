{
 "cells": [
  {
   "cell_type": "code",
   "execution_count": 1,
   "metadata": {
    "collapsed": false
   },
   "outputs": [
    {
     "name": "stdout",
     "output_type": "stream",
     "text": [
      "This will take an image with the raspi-camera and display it\n"
     ]
    }
   ],
   "source": [
    "print \"This will take an image with the raspi-camera and display it\"\n",
    "!sudo raspistill -o test2.png"
   ]
  },
  {
   "cell_type": "code",
   "execution_count": 2,
   "metadata": {
    "collapsed": false
   },
   "outputs": [
    {
     "data": {
      "text/html": [
       "<img src=\"test2.png\"/>"
      ],
      "text/plain": [
       "<IPython.core.display.Image object>"
      ]
     },
     "metadata": {},
     "output_type": "display_data"
    }
   ],
   "source": [
    "# Load the ipython display and image module\n",
    "from IPython.display import Image\n",
    "from IPython.display import display\n",
    "# display this image\n",
    "display(Image(url='test2.png'))"
   ]
  },
  {
   "cell_type": "markdown",
   "metadata": {
    "collapsed": true
   },
   "source": [
    "## Convert image to black and white"
   ]
  },
  {
   "cell_type": "code",
   "execution_count": 3,
   "metadata": {
    "collapsed": true
   },
   "outputs": [],
   "source": [
    "# Source: http://stackoverflow.com/questions/18777873/convert-rgb-to-black-or-white\n",
    "\n",
    "from PIL import Image\n",
    "import numpy as np\n",
    "\n",
    "col = Image.open(\"test2.png\")\n",
    "gray = col.convert('L')\n",
    "\n",
    "# Let numpy do the heavy lifting for converting pixels to pure black or white\n",
    "bw = np.asarray(gray).copy()\n",
    "\n",
    "# Pixel range is 0...255, 256/2 = 128\n",
    "bw[bw < 128] = 0    # Black\n",
    "bw[bw >= 128] = 255 # White\n",
    "\n",
    "# Now we put it back in Pillow/PIL land\n",
    "imfile = Image.fromarray(bw)\n",
    "imfile.save(\"result_bw.png\")"
   ]
  },
  {
   "cell_type": "code",
   "execution_count": 4,
   "metadata": {
    "collapsed": false
   },
   "outputs": [
    {
     "data": {
      "text/html": [
       "<img src=\"result_bw.png\"/>"
      ],
      "text/plain": [
       "<IPython.core.display.Image object>"
      ]
     },
     "metadata": {},
     "output_type": "display_data"
    }
   ],
   "source": [
    "# Load the ipython display and image module\n",
    "from IPython.display import Image\n",
    "from IPython.display import display\n",
    "# display this image\n",
    "display(Image(url='result_bw.png'))"
   ]
  },
  {
   "cell_type": "code",
   "execution_count": null,
   "metadata": {
    "collapsed": true
   },
   "outputs": [],
   "source": []
  }
 ],
 "metadata": {
  "kernelspec": {
   "display_name": "PySpark",
   "language": "python",
   "name": "pyspark"
  },
  "language_info": {
   "codemirror_mode": {
    "name": "ipython",
    "version": 2
   },
   "file_extension": ".py",
   "mimetype": "text/x-python",
   "name": "python",
   "nbconvert_exporter": "python",
   "pygments_lexer": "ipython2",
   "version": "2.7.9"
  }
 },
 "nbformat": 4,
 "nbformat_minor": 0
}
