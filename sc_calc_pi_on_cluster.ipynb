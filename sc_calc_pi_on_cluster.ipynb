{
 "cells": [
  {
   "cell_type": "code",
   "execution_count": 4,
   "metadata": {
    "collapsed": false
   },
   "outputs": [
    {
     "name": "stdout",
     "output_type": "stream",
     "text": [
      "Calculating Pi on a Spark Cluster\n",
      "Mapping...\n",
      "Reducing...\n",
      "Pi is roughly 3.142091\n",
      "--- 6.44620704651 seconds ---\n"
     ]
    }
   ],
   "source": [
    "import random as ran\n",
    "import time\n",
    "\n",
    "start_time = time.time()\n",
    "\n",
    "print(\"Calculating Pi on a Spark Cluster\")\n",
    "\n",
    "def sample(p):\n",
    "    x, y = ran.random(), ran.random()\n",
    "    return 1 if x*x + y*y < 1 else 0\n",
    "\n",
    "NUM_SAMPLES = 10*1000*1000\n",
    "\n",
    "print(\"Mapping...\")\n",
    "\n",
    "rdd = sc.parallelize(xrange(0, NUM_SAMPLES))\n",
    "mappedOutput = rdd.map(sample)\n",
    "\n",
    "print(\"Reducing...\")\n",
    "\n",
    "count = mappedOutput.reduce(lambda a, b: a + b)\n",
    "\n",
    "print(\"Pi is roughly %f\" % (4.0 * count / NUM_SAMPLES))\n",
    "print(\"--- %s seconds ---\" % (time.time() - start_time))"
   ]
  },
  {
   "cell_type": "code",
   "execution_count": 2,
   "metadata": {
    "collapsed": false
   },
   "outputs": [
    {
     "name": "stdout",
     "output_type": "stream",
     "text": [
      "('Hello World', 0.75)\n"
     ]
    }
   ],
   "source": [
    "x = 3\n",
    "y = 4.\n",
    "z = x / y\n",
    "print(\"Hello World\", z)"
   ]
  },
  {
   "cell_type": "code",
   "execution_count": 3,
   "metadata": {
    "collapsed": false
   },
   "outputs": [
    {
     "name": "stdout",
     "output_type": "stream",
     "text": [
      "Spark-Version: 1.6.1\n",
      "Spark-User:    farmer\n"
     ]
    }
   ],
   "source": [
    "print(\"Spark-Version: %s\" % sc.version)\n",
    "print(\"Spark-User:    %s\" % sc.sparkUser())"
   ]
  },
  {
   "cell_type": "code",
   "execution_count": null,
   "metadata": {
    "collapsed": true
   },
   "outputs": [],
   "source": []
  }
 ],
 "metadata": {
  "kernelspec": {
   "display_name": "PySpark",
   "language": "python",
   "name": "pyspark"
  },
  "language_info": {
   "codemirror_mode": {
    "name": "ipython",
    "version": 2
   },
   "file_extension": ".py",
   "mimetype": "text/x-python",
   "name": "python",
   "nbconvert_exporter": "python",
   "pygments_lexer": "ipython2",
   "version": "2.7.9"
  }
 },
 "nbformat": 4,
 "nbformat_minor": 0
}
