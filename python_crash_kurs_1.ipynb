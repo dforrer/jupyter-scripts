{
 "cells": [
  {
   "cell_type": "code",
   "execution_count": 3,
   "metadata": {
    "collapsed": false
   },
   "outputs": [
    {
     "name": "stdout",
     "output_type": "stream",
     "text": [
      "no 0: Bob, length=3, sex: male\n",
      "no 1: Lisa, length=4, sex: female\n",
      "no 2: Bill, length=4, sex: male\n",
      "no 3: Sally, length=5, sex: female\n"
     ]
    }
   ],
   "source": [
    "for ind, name_length in enumerate([(name, len(name)) \n",
    "    for name in ('Bob', 'Lisa', 'Bill', 'Sally')]):\n",
    "    \n",
    "    kwargs = { 'i': ind, 'name': name_length[0], 'len': name_length[1] }\n",
    "    \n",
    "    if name_length[0] in ('Bob', 'Bill'): \n",
    "        kwargs.update({'sex': 'male'})\n",
    "    elif name_length[0] in ('Lisa', 'Sally'): \n",
    "        kwargs['sex'] = 'female'\n",
    "    else:\n",
    "        kwargs['sex'] = 'dunno'\n",
    "    print('no {i}: {name}, length={len}, sex: {sex}'.format(**kwargs))"
   ]
  },
  {
   "cell_type": "code",
   "execution_count": null,
   "metadata": {
    "collapsed": true
   },
   "outputs": [],
   "source": []
  }
 ],
 "metadata": {
  "kernelspec": {
   "display_name": "PySpark",
   "language": "python",
   "name": "pyspark"
  },
  "language_info": {
   "codemirror_mode": {
    "name": "ipython",
    "version": 3
   },
   "file_extension": ".py",
   "mimetype": "text/x-python",
   "name": "python",
   "nbconvert_exporter": "python",
   "pygments_lexer": "ipython3",
   "version": "3.4.2"
  }
 },
 "nbformat": 4,
 "nbformat_minor": 0
}
