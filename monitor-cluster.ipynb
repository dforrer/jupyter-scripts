{
 "cells": [
  {
   "cell_type": "code",
   "execution_count": 7,
   "metadata": {
    "collapsed": false
   },
   "outputs": [
    {
     "name": "stdout",
     "output_type": "stream",
     "text": [
      "{ '192.168.17.11':  { 'cpu': 1.2, 'memory': 96.89 }  }\n",
      "{ '192.168.17.12':  { 'cpu': 1.2, 'memory': 95.66 }  }\n",
      "{ '192.168.17.13':  { 'cpu': 2.3, 'memory': 79.68 }  }\n",
      "{ '192.168.17.14':  { 'cpu': 1.2, 'memory': 85.96 }  }\n"
     ]
    }
   ],
   "source": [
    "!cluster stats all"
   ]
  },
  {
   "cell_type": "code",
   "execution_count": null,
   "metadata": {
    "collapsed": false
   },
   "outputs": [],
   "source": [
    "!while true; do cluster stats all; sleep 0; done"
   ]
  }
 ],
 "metadata": {
  "kernelspec": {
   "display_name": "Python 2",
   "language": "python",
   "name": "python2"
  },
  "language_info": {
   "codemirror_mode": {
    "name": "ipython",
    "version": 2
   },
   "file_extension": ".py",
   "mimetype": "text/x-python",
   "name": "python",
   "nbconvert_exporter": "python",
   "pygments_lexer": "ipython2",
   "version": "2.7.9"
  }
 },
 "nbformat": 4,
 "nbformat_minor": 0
}
