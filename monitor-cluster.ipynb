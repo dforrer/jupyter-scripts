{
 "cells": [
  {
   "cell_type": "code",
   "execution_count": 1,
   "metadata": {
    "collapsed": false
   },
   "outputs": [
    {
     "name": "stdout",
     "output_type": "stream",
     "text": [
      "{ '192.168.17.11':  { 'cpu': 86.6, 'memory': 98.26 }  }\n",
      "{ '192.168.17.12':  { 'cpu': 1.2, 'memory': 98.1 }  }\n",
      "{ '192.168.17.13':  { 'cpu': 1.2, 'memory': 98.66 }  }\n",
      "{ '192.168.17.14':  { 'cpu': 41.0, 'memory': 96.53 }  }\n"
     ]
    }
   ],
   "source": [
    "!cluster stats all"
   ]
  },
  {
   "cell_type": "code",
   "execution_count": null,
   "metadata": {
    "collapsed": true
   },
   "outputs": [],
   "source": []
  }
 ],
 "metadata": {
  "kernelspec": {
   "display_name": "Python 2",
   "language": "python",
   "name": "python2"
  },
  "language_info": {
   "codemirror_mode": {
    "name": "ipython",
    "version": 2
   },
   "file_extension": ".py",
   "mimetype": "text/x-python",
   "name": "python",
   "nbconvert_exporter": "python",
   "pygments_lexer": "ipython2",
   "version": "2.7.9"
  }
 },
 "nbformat": 4,
 "nbformat_minor": 0
}
